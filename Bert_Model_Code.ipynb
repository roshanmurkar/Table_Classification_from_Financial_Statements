{
 "cells": [
  {
   "cell_type": "code",
   "execution_count": null,
   "id": "69b1015e-8303-4bd5-a54e-135d0ade1da5",
   "metadata": {},
   "outputs": [],
   "source": [
    "pip install -r requirements.txt "
   ]
  },
  {
   "cell_type": "code",
   "execution_count": null,
   "id": "ab8b4d3f-f7a8-4663-a557-d0c48c4a0d2c",
   "metadata": {},
   "outputs": [],
   "source": []
  },
  {
   "cell_type": "code",
   "execution_count": 1,
   "id": "31c5c26c-d8a4-4f64-83d9-d75809820d4d",
   "metadata": {},
   "outputs": [],
   "source": [
    "import os\n",
    "import pandas as pd\n",
    "from bs4 import BeautifulSoup\n",
    "import glob"
   ]
  },
  {
   "cell_type": "markdown",
   "id": "9c3adce9-270c-4d1d-8dc5-b6449a15ab64",
   "metadata": {},
   "source": [
    "# Step 1: Data Extraction and Preprocessing"
   ]
  },
  {
   "cell_type": "code",
   "execution_count": 3,
   "id": "393fbadf-3061-45fe-b0c2-bcab950c0a72",
   "metadata": {},
   "outputs": [],
   "source": [
    "# Function to extract tables from an HTML file\n",
    "def extract_tables_from_html(file_path):\n",
    "    with open(file_path, 'r', encoding='utf-8') as file:\n",
    "        soup = BeautifulSoup(file, 'html.parser')\n",
    "    \n",
    "    tables = []\n",
    "    for table in soup.find_all('table'):\n",
    "        df = pd.read_html(str(table))[0]\n",
    "        tables.append(df)\n",
    "    \n",
    "    return tables"
   ]
  },
  {
   "cell_type": "code",
   "execution_count": null,
   "id": "d7fe6c16-7df3-48eb-b9f0-878bebd50e1c",
   "metadata": {},
   "outputs": [],
   "source": [
    "# Extract tables from all files and store them in a dictionary\n",
    "all_data = {}\n",
    "for category, directory in categories_dirs.items():\n",
    "    all_data[category] = []\n",
    "    for file_path in glob.glob(os.path.join(directory, '*.html')):\n",
    "        tables = extract_tables_from_html(file_path)\n",
    "        all_data[category].extend(tables)"
   ]
  },
  {
   "cell_type": "code",
   "execution_count": 4,
   "id": "634b105d-4aec-468b-a444-22bb636a5234",
   "metadata": {},
   "outputs": [],
   "source": [
    "# Directory paths\n",
    "base_dir = 'data/'\n",
    "categories_dirs = {\n",
    "    'Income Statement': os.path.join(base_dir, 'Income Statement'),\n",
    "    'Balance Sheets': os.path.join(base_dir, 'Balance Sheets'),\n",
    "    'Cash Flow': os.path.join(base_dir, 'Cash Flow'),\n",
    "    'Notes': os.path.join(base_dir, 'Notes'),\n",
    "    'Others': os.path.join(base_dir, 'Others')\n",
    "}"
   ]
  },
  {
   "cell_type": "code",
   "execution_count": 6,
   "id": "a80c6753-0a1b-489c-a6b4-e31f41188dfd",
   "metadata": {},
   "outputs": [
    {
     "name": "stdout",
     "output_type": "stream",
     "text": [
      "Income Statement: 305 tables extracted\n",
      "Balance Sheets: 270 tables extracted\n",
      "Cash Flow: 36 tables extracted\n",
      "Notes: 690 tables extracted\n",
      "Others: 1224 tables extracted\n"
     ]
    }
   ],
   "source": [
    "# Display the number of tables extracted for each category\n",
    "for category, tables in all_data.items():\n",
    "    print(f'{category}: {len(tables)} tables extracted')"
   ]
  },
  {
   "cell_type": "markdown",
   "id": "1eba8461-638a-4d1a-b81c-717903609a83",
   "metadata": {},
   "source": [
    "# Step 2: Feature Extraction"
   ]
  },
  {
   "cell_type": "code",
   "execution_count": null,
   "id": "0ad0ff60-2c91-41c9-8d0c-650722a67f9a",
   "metadata": {},
   "outputs": [],
   "source": []
  },
  {
   "cell_type": "code",
   "execution_count": 11,
   "id": "eea96627-a9c3-485a-b82e-83f7868d61a5",
   "metadata": {},
   "outputs": [],
   "source": [
    "import numpy as np\n",
    "from sklearn.feature_extraction.text import TfidfVectorizer\n",
    "\n",
    "# Combine all tables into a single list of strings\n",
    "all_tables = []\n",
    "all_labels = []\n",
    "for category, tables in all_data.items():\n",
    "    for table in tables:\n",
    "        all_tables.append(table.to_string())\n",
    "        all_labels.append(category)\n",
    "\n",
    "# Fit a single TfidfVectorizer on the combined text data\n",
    "vectorizer = TfidfVectorizer()\n",
    "X = vectorizer.fit_transform(all_tables)\n",
    "y = np.array(all_labels)\n"
   ]
  },
  {
   "cell_type": "code",
   "execution_count": null,
   "id": "cef2bd1b-bde2-423a-9464-8a8b1c07171f",
   "metadata": {},
   "outputs": [],
   "source": []
  },
  {
   "cell_type": "markdown",
   "id": "38c93aa0-576d-4532-a221-ebcdf99f5451",
   "metadata": {},
   "source": [
    "# Step 3: Model Selection and Training\n"
   ]
  },
  {
   "cell_type": "code",
   "execution_count": null,
   "id": "ab993f4b-da97-4b4a-ae69-cfa2969616a5",
   "metadata": {},
   "outputs": [],
   "source": []
  },
  {
   "cell_type": "code",
   "execution_count": 12,
   "id": "c8d6f9f9-49b5-4b55-a6ef-e3b02a39f2a2",
   "metadata": {},
   "outputs": [
    {
     "name": "stdout",
     "output_type": "stream",
     "text": [
      "Accuracy: 0.9287128712871288\n",
      "Classification Report:\n",
      "                  precision    recall  f1-score   support\n",
      "\n",
      "  Balance Sheets       1.00      0.91      0.95        58\n",
      "       Cash Flow       1.00      0.88      0.93         8\n",
      "Income Statement       1.00      0.88      0.93        57\n",
      "           Notes       0.93      0.85      0.89       123\n",
      "          Others       0.90      0.98      0.94       259\n",
      "\n",
      "        accuracy                           0.93       505\n",
      "       macro avg       0.97      0.90      0.93       505\n",
      "    weighted avg       0.93      0.93      0.93       505\n",
      "\n"
     ]
    }
   ],
   "source": [
    "from sklearn.model_selection import train_test_split\n",
    "from sklearn.ensemble import RandomForestClassifier\n",
    "from sklearn.metrics import accuracy_score, classification_report\n",
    "\n",
    "# Split the data into training and test sets\n",
    "X_train, X_test, y_train, y_test = train_test_split(X, y, test_size=0.2, random_state=42)\n",
    "\n",
    "# Train a Random Forest Classifier\n",
    "clf = RandomForestClassifier(n_estimators=100, random_state=42)\n",
    "clf.fit(X_train, y_train)\n",
    "\n",
    "# Predict on the test set\n",
    "y_pred = clf.predict(X_test)\n",
    "\n",
    "# Evaluate the model\n",
    "accuracy = accuracy_score(y_test, y_pred)\n",
    "report = classification_report(y_test, y_pred)\n",
    "\n",
    "print(f'Accuracy: {accuracy}')\n",
    "print(f'Classification Report:\\n{report}')\n"
   ]
  },
  {
   "cell_type": "code",
   "execution_count": null,
   "id": "c066f43e-a3f8-4d96-9e40-27ba84835bde",
   "metadata": {},
   "outputs": [],
   "source": []
  },
  {
   "cell_type": "markdown",
   "id": "bd9a943a-9912-41ce-ad31-444fd7ccbdf7",
   "metadata": {},
   "source": [
    "# Test the model"
   ]
  },
  {
   "cell_type": "code",
   "execution_count": 13,
   "id": "0c1c4b90-1af3-4c04-aa56-3f28f19be252",
   "metadata": {},
   "outputs": [],
   "source": [
    "# Function to preprocess new test data and make predictions\n",
    "def preprocess_and_predict_new_data(new_data_dir, model, vectorizer):\n",
    "    new_data = []\n",
    "    new_labels = []\n",
    "    categories = os.listdir(new_data_dir)\n",
    "    \n",
    "    for category in categories:\n",
    "        category_dir = os.path.join(new_data_dir, category)\n",
    "        if os.path.isdir(category_dir):\n",
    "            for file_path in glob.glob(os.path.join(category_dir, '*.html')):\n",
    "                tables = extract_tables_from_html(file_path)\n",
    "                for table in tables:\n",
    "                    new_data.append(table.to_string())\n",
    "                    new_labels.append(category)\n",
    "    \n",
    "    # Transform new data using the existing TfidfVectorizer\n",
    "    X_new = vectorizer.transform(new_data)\n",
    "    y_new = np.array(new_labels)\n",
    "    \n",
    "    # Predict using the trained model\n",
    "    y_new_pred = model.predict(X_new)\n",
    "    \n",
    "    # Evaluate predictions\n",
    "    new_accuracy = accuracy_score(y_new, y_new_pred)\n",
    "    new_report = classification_report(y_new, y_new_pred)\n",
    "    \n",
    "    return new_accuracy, new_report\n"
   ]
  },
  {
   "cell_type": "code",
   "execution_count": null,
   "id": "30166823-518b-4d52-bc5a-3161ab33ebf9",
   "metadata": {},
   "outputs": [],
   "source": [
    "# Directory of new test data\n",
    "new_test_data_dir = 'data/'\n",
    "\n",
    "# Preprocess and predict on new test data\n",
    "new_accuracy, new_report = preprocess_and_predict_new_data(new_test_data_dir, clf, vectorizer)\n"
   ]
  },
  {
   "cell_type": "code",
   "execution_count": 15,
   "id": "e95b4d0b-fdab-47eb-bcbb-a911e2364299",
   "metadata": {},
   "outputs": [
    {
     "name": "stdout",
     "output_type": "stream",
     "text": [
      "New Test Data Accuracy: 0.9857425742574257\n",
      "New Test Data Classification Report:\n",
      "                  precision    recall  f1-score   support\n",
      "\n",
      "  Balance Sheets       1.00      0.98      0.99       270\n",
      "       Cash Flow       1.00      0.97      0.99        36\n",
      "Income Statement       1.00      0.98      0.99       305\n",
      "           Notes       0.99      0.97      0.98       690\n",
      "          Others       0.98      1.00      0.99      1224\n",
      "\n",
      "        accuracy                           0.99      2525\n",
      "       macro avg       0.99      0.98      0.99      2525\n",
      "    weighted avg       0.99      0.99      0.99      2525\n",
      "\n"
     ]
    }
   ],
   "source": [
    "\n",
    "print(f'New Test Data Accuracy: {new_accuracy}')\n",
    "print(f'New Test Data Classification Report:\\n{new_report}')"
   ]
  },
  {
   "cell_type": "code",
   "execution_count": null,
   "id": "0ab291c8-de6a-4bc0-bc11-9e6f48ad771f",
   "metadata": {},
   "outputs": [],
   "source": []
  }
 ],
 "metadata": {
  "kernelspec": {
   "display_name": "Python 3 (ipykernel)",
   "language": "python",
   "name": "python3"
  },
  "language_info": {
   "codemirror_mode": {
    "name": "ipython",
    "version": 3
   },
   "file_extension": ".py",
   "mimetype": "text/x-python",
   "name": "python",
   "nbconvert_exporter": "python",
   "pygments_lexer": "ipython3",
   "version": "3.11.4"
  }
 },
 "nbformat": 4,
 "nbformat_minor": 5
}
